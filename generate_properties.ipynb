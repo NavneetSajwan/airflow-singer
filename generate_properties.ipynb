{
 "metadata": {
  "language_info": {
   "codemirror_mode": {
    "name": "ipython",
    "version": 3
   },
   "file_extension": ".py",
   "mimetype": "text/x-python",
   "name": "python",
   "nbconvert_exporter": "python",
   "pygments_lexer": "ipython3",
   "version": "3.8.3"
  },
  "orig_nbformat": 2,
  "kernelspec": {
   "name": "pythonjvsc74a57bd092fe8ba986d9bb1d6e312afde57801726bf663e00db413394e6ff6c128215ab8",
   "display_name": "Python 3.8.3  ('etl': venv)"
  },
  "metadata": {
   "interpreter": {
    "hash": "92fe8ba986d9bb1d6e312afde57801726bf663e00db413394e6ff6c128215ab8"
   }
  }
 },
 "nbformat": 4,
 "nbformat_minor": 2,
 "cells": [
  {
   "cell_type": "code",
   "execution_count": 1,
   "metadata": {},
   "outputs": [],
   "source": [
    "import os\n",
    "import json"
   ]
  },
  {
   "cell_type": "code",
   "execution_count": 4,
   "metadata": {},
   "outputs": [],
   "source": [
    "tap_stream_id=\"metaorigin-usercreditaccount\"\n",
    "SINGER_DATA = '/home/navneetsajwan/airflow/singer_data/'"
   ]
  },
  {
   "cell_type": "code",
   "execution_count": 64,
   "metadata": {},
   "outputs": [],
   "source": [
    "fpath = f\"{SINGER_DATA}properties.json\"\n",
    "# Opening JSON file\n",
    "with open(fpath) as json_file:\n",
    "    data = json.load(json_file)"
   ]
  },
  {
   "cell_type": "code",
   "execution_count": 65,
   "metadata": {},
   "outputs": [],
   "source": [
    "schema = {\"streams\":[]}"
   ]
  },
  {
   "cell_type": "code",
   "execution_count": 66,
   "metadata": {},
   "outputs": [
    {
     "output_type": "execute_result",
     "data": {
      "text/plain": [
       "{'streams': []}"
      ]
     },
     "metadata": {},
     "execution_count": 66
    }
   ],
   "source": [
    "schema"
   ]
  },
  {
   "cell_type": "code",
   "execution_count": 67,
   "metadata": {},
   "outputs": [],
   "source": [
    "streams_list = data['streams']"
   ]
  },
  {
   "cell_type": "code",
   "execution_count": 68,
   "metadata": {},
   "outputs": [
    {
     "output_type": "stream",
     "name": "stdout",
     "text": [
      "metaorigin-usercreditaccount\n"
     ]
    }
   ],
   "source": [
    "for stream in streams_list:\n",
    "    if stream[\"tap_stream_id\"] == tap_stream_id:\n",
    "        print(stream[\"tap_stream_id\"])\n",
    "        schema['streams'].append(stream)"
   ]
  },
  {
   "cell_type": "code",
   "execution_count": 69,
   "metadata": {},
   "outputs": [
    {
     "output_type": "execute_result",
     "data": {
      "text/plain": [
       "{'streams': [{'tap_stream_id': 'metaorigin-usercreditaccount',\n",
       "   'table_name': 'usercreditaccount',\n",
       "   'schema': {'properties': {'userid': {'inclusion': 'available',\n",
       "      'minimum': -2147483648,\n",
       "      'maximum': 2147483647,\n",
       "      'type': ['null', 'integer']},\n",
       "     'totalcreditscore': {'inclusion': 'available',\n",
       "      'minimum': -2147483648,\n",
       "      'maximum': 2147483647,\n",
       "      'type': ['null', 'integer']},\n",
       "     'creditid': {'inclusion': 'automatic',\n",
       "      'minimum': -2147483648,\n",
       "      'maximum': 2147483647,\n",
       "      'type': ['null', 'integer']},\n",
       "     'creditamount': {'inclusion': 'available',\n",
       "      'minimum': -2147483648,\n",
       "      'maximum': 2147483647,\n",
       "      'type': ['null', 'integer']}},\n",
       "    'type': 'object'},\n",
       "   'stream': 'usercreditaccount',\n",
       "   'metadata': [{'breadcrumb': [],\n",
       "     'metadata': {'selected-by-default': False,\n",
       "      'database-name': 'metaorigin',\n",
       "      'row-count': 9,\n",
       "      'is-view': False,\n",
       "      'table-key-properties': ['creditid']}},\n",
       "    {'breadcrumb': ['properties', 'userid'],\n",
       "     'metadata': {'selected-by-default': True, 'sql-datatype': 'int'}},\n",
       "    {'breadcrumb': ['properties', 'totalcreditscore'],\n",
       "     'metadata': {'selected-by-default': True, 'sql-datatype': 'int'}},\n",
       "    {'breadcrumb': ['properties', 'creditid'],\n",
       "     'metadata': {'selected-by-default': True, 'sql-datatype': 'int'}},\n",
       "    {'breadcrumb': ['properties', 'creditamount'],\n",
       "     'metadata': {'selected-by-default': True, 'sql-datatype': 'int'}}]}]}"
      ]
     },
     "metadata": {},
     "execution_count": 69
    }
   ],
   "source": [
    "schema"
   ]
  },
  {
   "cell_type": "code",
   "execution_count": 75,
   "metadata": {},
   "outputs": [],
   "source": [
    "schema['streams'][0]['metadata'][0]['metadata']['selected']= True"
   ]
  },
  {
   "cell_type": "code",
   "execution_count": 76,
   "metadata": {},
   "outputs": [],
   "source": [
    "schema['streams'][0]['metadata'][0]['metadata']['replication-method']= \"FULL_TABLE\""
   ]
  },
  {
   "cell_type": "code",
   "execution_count": 79,
   "metadata": {},
   "outputs": [],
   "source": [
    "with open(f\"{SINGER_DATA}metaorigin_properties.json\", \"w\") as outfile: \n",
    "    json.dump(schema, outfile)"
   ]
  },
  {
   "cell_type": "code",
   "execution_count": null,
   "metadata": {},
   "outputs": [],
   "source": []
  }
 ]
}