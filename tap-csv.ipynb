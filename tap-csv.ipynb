{
 "metadata": {
  "language_info": {
   "codemirror_mode": {
    "name": "ipython",
    "version": 3
   },
   "file_extension": ".py",
   "mimetype": "text/x-python",
   "name": "python",
   "nbconvert_exporter": "python",
   "pygments_lexer": "ipython3",
   "version": "3.8.3"
  },
  "orig_nbformat": 2,
  "kernelspec": {
   "name": "python383jvsc74a57bd0edef1e8c0038f761101afe1e8759500cc9d4810fa7e978f3769c3cbc4f0c76e8",
   "display_name": "Python 3.8.3 64-bit ('target-postgres': virtualenvwrapper)"
  },
  "metadata": {
   "interpreter": {
    "hash": "edef1e8c0038f761101afe1e8759500cc9d4810fa7e978f3769c3cbc4f0c76e8"
   }
  }
 },
 "nbformat": 4,
 "nbformat_minor": 2,
 "cells": [
  {
   "cell_type": "code",
   "execution_count": 8,
   "metadata": {},
   "outputs": [],
   "source": [
    "import json\n",
    "import singer\n",
    "import urllib.request\n",
    "from datetime import datetime, timezone\n",
    "import pandas as pd\n",
    "from datetime import date, timedelta\n",
    "import os\n",
    "current_date = date.today().isoformat()  \n",
    "today = date.today()\n",
    "SINGER_DATA = '/home/navneetsajwan/airflow/singer_data/'\n",
    "directory=f\"{SINGER_DATA}Data-\"+current_date"
   ]
  },
  {
   "cell_type": "code",
   "execution_count": 9,
   "metadata": {},
   "outputs": [
    {
     "output_type": "stream",
     "name": "stdout",
     "text": [
      "   creditamount  creditid  userid  totalcreditscore   name\n0            50      9999    9999              9999   dasd\n1            50     97009  109677           1231434    wer\n2            50   9007009  100007          10202034  trtwe\n{\"type\": \"SCHEMA\", \"stream\": \"user_acc\", \"schema\": {\"properties\": {\"userid\": {\"inclusion\": \"available\", \"minimum\": -2147483648, \"maximum\": 2147483647, \"type\": [\"null\", \"integer\"]}, \"totalcreditscore\": {\"inclusion\": \"available\", \"minimum\": -2147483648, \"maximum\": 2147483647, \"type\": [\"null\", \"integer\"]}, \"creditid\": {\"inclusion\": \"automatic\", \"minimum\": -2147483648, \"maximum\": 2147483647, \"type\": [\"null\", \"integer\"]}, \"creditamount\": {\"inclusion\": \"available\", \"minimum\": -2147483648, \"maximum\": 2147483647, \"type\": [\"null\", \"integer\"]}}}, \"key_properties\": [\"creditid\"]}\n"
     ]
    }
   ],
   "source": [
    "# Opening JSON file\n",
    "with open('/home/navneetsajwan/airflow/singer_data/schemas/usercreditaccount.json') as json_file:\n",
    "    data = json.load(json_file)\n",
    "\n",
    "csv_file_list=os.listdir(directory)\n",
    "last_file=sorted(csv_file_list)[-1]\n",
    "df=pd.read_csv(os.path.join(directory,last_file))\n",
    "print(df)\n",
    "singer.write_schema('user_acc', data, 'creditid')\n"
   ]
  },
  {
   "cell_type": "code",
   "execution_count": 10,
   "metadata": {},
   "outputs": [
    {
     "output_type": "stream",
     "name": "stdout",
     "text": [
      "creditamount          50\ncreditid            9999\nuserid              9999\ntotalcreditscore    9999\nname                dasd\nName: 0, dtype: object\n======\ncreditamount             50\ncreditid              97009\nuserid               109677\ntotalcreditscore    1231434\nname                    wer\nName: 1, dtype: object\n======\ncreditamount              50\ncreditid             9007009\nuserid                100007\ntotalcreditscore    10202034\nname                   trtwe\nName: 2, dtype: object\n======\n"
     ]
    }
   ],
   "source": [
    "for index,row in df.iterrows():\n",
    "    print(row)\n",
    "    print(\"======\")"
   ]
  },
  {
   "cell_type": "code",
   "execution_count": 12,
   "metadata": {},
   "outputs": [
    {
     "output_type": "stream",
     "name": "stdout",
     "text": [
      "{\"type\": \"RECORD\", \"stream\": \"user_acc\", \"record\": {\"creditid\": 9999, \"userid\": 9999, \"totalcreditscore\": 9999, \"creditamount\": 50}}\n",
      "{\"type\": \"RECORD\", \"stream\": \"user_acc\", \"record\": {\"creditid\": 97009, \"userid\": 109677, \"totalcreditscore\": 1231434, \"creditamount\": 50}}\n",
      "{\"type\": \"RECORD\", \"stream\": \"user_acc\", \"record\": {\"creditid\": 9007009, \"userid\": 100007, \"totalcreditscore\": 10202034, \"creditamount\": 50}}\n"
     ]
    }
   ],
   "source": [
    "for index,row in df.iterrows():\n",
    "    singer.write_records('user_acc', [{'creditid':row['creditid'],'userid':row['userid'],'totalcreditscore':row['totalcreditscore'],'creditamount':row['creditamount']}])"
   ]
  },
  {
   "cell_type": "code",
   "execution_count": null,
   "metadata": {},
   "outputs": [],
   "source": [
    "for index,row in df.iterrows():\n",
    "    singer.write_records('user_acc', [{'creditid':int(row['creditid']),'userid':int(row['userid']),'totalcreditscore':int(row['totalcreditscore'])}])\n"
   ]
  }
 ]
}